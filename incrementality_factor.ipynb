{
  "nbformat": 4,
  "nbformat_minor": 0,
  "metadata": {
    "colab": {
      "name": "incrementality_factor.ipynb",
      "provenance": [],
      "collapsed_sections": [],
      "toc_visible": true
    },
    "hide_input": false,
    "kernelspec": {
      "display_name": "MTC",
      "language": "python",
      "name": "python3"
    },
    "toc": {
      "base_numbering": 1,
      "nav_menu": {},
      "number_sections": true,
      "sideBar": true,
      "skip_h1_title": false,
      "title_cell": "Table of Contents",
      "title_sidebar": "Contents",
      "toc_cell": false,
      "toc_position": {},
      "toc_section_display": true,
      "toc_window_display": false
    }
  },
  "cells": [
    {
      "cell_type": "code",
      "metadata": {
        "id": "G3aa2d_zuSjt"
      },
      "source": [
        "import os\n",
        "import urllib.request\n",
        "import zipfile\n",
        "import pandas as pd\n",
        "import numpy as np\n",
        "import scipy\n",
        "import matplotlib.pyplot as plt\n",
        "import scipy.sparse\n",
        "from joblib import Parallel, delayed\n",
        "from enum import Enum\n",
        "\n",
        "from sklearn.linear_model import LogisticRegression\n",
        "from sklearn.feature_extraction import FeatureHasher\n",
        "\n",
        "plt.style.use('ggplot')"
      ],
      "execution_count": null,
      "outputs": []
    },
    {
      "cell_type": "markdown",
      "metadata": {
        "id": "OWC5yFQ-0BIB"
      },
      "source": [
        "## Download Data"
      ]
    },
    {
      "cell_type": "code",
      "metadata": {
        "id": "mxHgyoENubTF"
      },
      "source": [
        "def download_dataset():\n",
        "    urllib.request.urlretrieve(\n",
        "        \"https://s3-eu-west-1.amazonaws.com/attribution-dataset/criteo_attribution_dataset.zip\", \n",
        "        \"criteo_attribution_dataset.zip\"\n",
        "    )\n",
        "  \n",
        "    with zipfile.ZipFile(\"criteo_attribution_dataset.zip\", \"r\") as zip_ref:\n",
        "        zip_ref.extractall(\"criteo_attribution_dataset\")"
      ],
      "execution_count": null,
      "outputs": []
    },
    {
      "cell_type": "code",
      "metadata": {
        "id": "L0DH4wUrvQQV"
      },
      "source": [
        "dataset_path = 'criteo_attribution_dataset/criteo_attribution_dataset.tsv.gz'\n",
        "\n",
        "if not os.path.exists(dataset_path):\n",
        "    download_dataset()"
      ],
      "execution_count": null,
      "outputs": []
    },
    {
      "cell_type": "markdown",
      "metadata": {
        "id": "ssG5zDpb0FqL"
      },
      "source": [
        "## Preprocessing"
      ]
    },
    {
      "cell_type": "code",
      "metadata": {
        "id": "HLvBtGE50MEV"
      },
      "source": [
        "df = pd.read_csv(dataset_path, sep='\\t', compression=\"gzip\")"
      ],
      "execution_count": null,
      "outputs": []
    },
    {
      "cell_type": "code",
      "metadata": {
        "colab": {
          "base_uri": "https://localhost:8080/",
          "height": 439
        },
        "id": "XfHUQxxy0zgI",
        "outputId": "83e53261-569d-4f8e-c70b-998de3d842f2"
      },
      "source": [
        "# On Google colab, one must use a smaller dataset (with debug_sample=1e-2)\n",
        "debug_sample = 1.0\n",
        "\n",
        "uid_and_salt = df['uid'].astype(str) + 'hash_salt_for_sampling'\n",
        "hashed_uid_and_salt = pd.util.hash_pandas_object(uid_and_salt, index=False)\n",
        "random_column_based_on_uid = hashed_uid_and_salt / np.iinfo(np.uint64).max\n",
        "debug_df = df[random_column_based_on_uid < debug_sample]\n",
        "debug_df"
      ],
      "execution_count": null,
      "outputs": [
        {
          "output_type": "execute_result",
          "data": {
            "text/html": [
              "<div>\n",
              "<style scoped>\n",
              "    .dataframe tbody tr th:only-of-type {\n",
              "        vertical-align: middle;\n",
              "    }\n",
              "\n",
              "    .dataframe tbody tr th {\n",
              "        vertical-align: top;\n",
              "    }\n",
              "\n",
              "    .dataframe thead th {\n",
              "        text-align: right;\n",
              "    }\n",
              "</style>\n",
              "<table border=\"1\" class=\"dataframe\">\n",
              "  <thead>\n",
              "    <tr style=\"text-align: right;\">\n",
              "      <th></th>\n",
              "      <th>timestamp</th>\n",
              "      <th>uid</th>\n",
              "      <th>campaign</th>\n",
              "      <th>conversion</th>\n",
              "      <th>conversion_timestamp</th>\n",
              "      <th>conversion_id</th>\n",
              "      <th>attribution</th>\n",
              "      <th>click</th>\n",
              "      <th>click_pos</th>\n",
              "      <th>click_nb</th>\n",
              "      <th>...</th>\n",
              "      <th>time_since_last_click</th>\n",
              "      <th>cat1</th>\n",
              "      <th>cat2</th>\n",
              "      <th>cat3</th>\n",
              "      <th>cat4</th>\n",
              "      <th>cat5</th>\n",
              "      <th>cat6</th>\n",
              "      <th>cat7</th>\n",
              "      <th>cat8</th>\n",
              "      <th>cat9</th>\n",
              "    </tr>\n",
              "  </thead>\n",
              "  <tbody>\n",
              "    <tr>\n",
              "      <th>0</th>\n",
              "      <td>0</td>\n",
              "      <td>20073966</td>\n",
              "      <td>22589171</td>\n",
              "      <td>0</td>\n",
              "      <td>-1</td>\n",
              "      <td>-1</td>\n",
              "      <td>0</td>\n",
              "      <td>0</td>\n",
              "      <td>-1</td>\n",
              "      <td>-1</td>\n",
              "      <td>...</td>\n",
              "      <td>-1</td>\n",
              "      <td>5824233</td>\n",
              "      <td>9312274</td>\n",
              "      <td>3490278</td>\n",
              "      <td>29196072</td>\n",
              "      <td>11409686</td>\n",
              "      <td>1973606</td>\n",
              "      <td>25162884</td>\n",
              "      <td>29196072</td>\n",
              "      <td>29196072</td>\n",
              "    </tr>\n",
              "    <tr>\n",
              "      <th>1</th>\n",
              "      <td>2</td>\n",
              "      <td>24607497</td>\n",
              "      <td>884761</td>\n",
              "      <td>0</td>\n",
              "      <td>-1</td>\n",
              "      <td>-1</td>\n",
              "      <td>0</td>\n",
              "      <td>0</td>\n",
              "      <td>-1</td>\n",
              "      <td>-1</td>\n",
              "      <td>...</td>\n",
              "      <td>423858</td>\n",
              "      <td>30763035</td>\n",
              "      <td>9312274</td>\n",
              "      <td>14584482</td>\n",
              "      <td>29196072</td>\n",
              "      <td>11409686</td>\n",
              "      <td>1973606</td>\n",
              "      <td>22644417</td>\n",
              "      <td>9312274</td>\n",
              "      <td>21091111</td>\n",
              "    </tr>\n",
              "    <tr>\n",
              "      <th>2</th>\n",
              "      <td>2</td>\n",
              "      <td>28474333</td>\n",
              "      <td>18975823</td>\n",
              "      <td>0</td>\n",
              "      <td>-1</td>\n",
              "      <td>-1</td>\n",
              "      <td>0</td>\n",
              "      <td>0</td>\n",
              "      <td>-1</td>\n",
              "      <td>-1</td>\n",
              "      <td>...</td>\n",
              "      <td>8879</td>\n",
              "      <td>138937</td>\n",
              "      <td>9312274</td>\n",
              "      <td>10769841</td>\n",
              "      <td>29196072</td>\n",
              "      <td>5824237</td>\n",
              "      <td>138937</td>\n",
              "      <td>1795451</td>\n",
              "      <td>29196072</td>\n",
              "      <td>15351056</td>\n",
              "    </tr>\n",
              "    <tr>\n",
              "      <th>3</th>\n",
              "      <td>3</td>\n",
              "      <td>7306395</td>\n",
              "      <td>29427842</td>\n",
              "      <td>1</td>\n",
              "      <td>1449193</td>\n",
              "      <td>3063962</td>\n",
              "      <td>0</td>\n",
              "      <td>1</td>\n",
              "      <td>0</td>\n",
              "      <td>7</td>\n",
              "      <td>...</td>\n",
              "      <td>-1</td>\n",
              "      <td>28928366</td>\n",
              "      <td>26597095</td>\n",
              "      <td>12435261</td>\n",
              "      <td>23549932</td>\n",
              "      <td>5824237</td>\n",
              "      <td>1973606</td>\n",
              "      <td>9180723</td>\n",
              "      <td>29841067</td>\n",
              "      <td>29196072</td>\n",
              "    </tr>\n",
              "    <tr>\n",
              "      <th>4</th>\n",
              "      <td>3</td>\n",
              "      <td>25357769</td>\n",
              "      <td>13365547</td>\n",
              "      <td>0</td>\n",
              "      <td>-1</td>\n",
              "      <td>-1</td>\n",
              "      <td>0</td>\n",
              "      <td>0</td>\n",
              "      <td>-1</td>\n",
              "      <td>-1</td>\n",
              "      <td>...</td>\n",
              "      <td>-1</td>\n",
              "      <td>138937</td>\n",
              "      <td>26597094</td>\n",
              "      <td>31616034</td>\n",
              "      <td>29196072</td>\n",
              "      <td>11409684</td>\n",
              "      <td>26597096</td>\n",
              "      <td>4480345</td>\n",
              "      <td>29196072</td>\n",
              "      <td>29196072</td>\n",
              "    </tr>\n",
              "    <tr>\n",
              "      <th>...</th>\n",
              "      <td>...</td>\n",
              "      <td>...</td>\n",
              "      <td>...</td>\n",
              "      <td>...</td>\n",
              "      <td>...</td>\n",
              "      <td>...</td>\n",
              "      <td>...</td>\n",
              "      <td>...</td>\n",
              "      <td>...</td>\n",
              "      <td>...</td>\n",
              "      <td>...</td>\n",
              "      <td>...</td>\n",
              "      <td>...</td>\n",
              "      <td>...</td>\n",
              "      <td>...</td>\n",
              "      <td>...</td>\n",
              "      <td>...</td>\n",
              "      <td>...</td>\n",
              "      <td>...</td>\n",
              "      <td>...</td>\n",
              "      <td>...</td>\n",
              "    </tr>\n",
              "    <tr>\n",
              "      <th>16468022</th>\n",
              "      <td>2671199</td>\n",
              "      <td>5767906</td>\n",
              "      <td>4869923</td>\n",
              "      <td>0</td>\n",
              "      <td>-1</td>\n",
              "      <td>-1</td>\n",
              "      <td>0</td>\n",
              "      <td>1</td>\n",
              "      <td>-1</td>\n",
              "      <td>-1</td>\n",
              "      <td>...</td>\n",
              "      <td>482560</td>\n",
              "      <td>30763035</td>\n",
              "      <td>26597095</td>\n",
              "      <td>13113052</td>\n",
              "      <td>29196072</td>\n",
              "      <td>5824236</td>\n",
              "      <td>30763035</td>\n",
              "      <td>18391143</td>\n",
              "      <td>29196072</td>\n",
              "      <td>8661623</td>\n",
              "    </tr>\n",
              "    <tr>\n",
              "      <th>16468023</th>\n",
              "      <td>2671199</td>\n",
              "      <td>6852682</td>\n",
              "      <td>10002432</td>\n",
              "      <td>0</td>\n",
              "      <td>-1</td>\n",
              "      <td>-1</td>\n",
              "      <td>0</td>\n",
              "      <td>0</td>\n",
              "      <td>-1</td>\n",
              "      <td>-1</td>\n",
              "      <td>...</td>\n",
              "      <td>971748</td>\n",
              "      <td>25259032</td>\n",
              "      <td>9312274</td>\n",
              "      <td>10979162</td>\n",
              "      <td>29196072</td>\n",
              "      <td>32440044</td>\n",
              "      <td>29196072</td>\n",
              "      <td>27259439</td>\n",
              "      <td>29196072</td>\n",
              "      <td>8661620</td>\n",
              "    </tr>\n",
              "    <tr>\n",
              "      <th>16468024</th>\n",
              "      <td>2671199</td>\n",
              "      <td>16638720</td>\n",
              "      <td>7061828</td>\n",
              "      <td>0</td>\n",
              "      <td>-1</td>\n",
              "      <td>-1</td>\n",
              "      <td>0</td>\n",
              "      <td>0</td>\n",
              "      <td>-1</td>\n",
              "      <td>-1</td>\n",
              "      <td>...</td>\n",
              "      <td>268431</td>\n",
              "      <td>30763035</td>\n",
              "      <td>5824235</td>\n",
              "      <td>29542751</td>\n",
              "      <td>29196072</td>\n",
              "      <td>5824237</td>\n",
              "      <td>29196072</td>\n",
              "      <td>3696777</td>\n",
              "      <td>29196072</td>\n",
              "      <td>21091111</td>\n",
              "    </tr>\n",
              "    <tr>\n",
              "      <th>16468025</th>\n",
              "      <td>2671199</td>\n",
              "      <td>3032300</td>\n",
              "      <td>5061834</td>\n",
              "      <td>0</td>\n",
              "      <td>-1</td>\n",
              "      <td>-1</td>\n",
              "      <td>0</td>\n",
              "      <td>1</td>\n",
              "      <td>-1</td>\n",
              "      <td>-1</td>\n",
              "      <td>...</td>\n",
              "      <td>-1</td>\n",
              "      <td>1973606</td>\n",
              "      <td>26597096</td>\n",
              "      <td>28944164</td>\n",
              "      <td>29196072</td>\n",
              "      <td>26611392</td>\n",
              "      <td>1973606</td>\n",
              "      <td>5642940</td>\n",
              "      <td>14911188</td>\n",
              "      <td>29196072</td>\n",
              "    </tr>\n",
              "    <tr>\n",
              "      <th>16468026</th>\n",
              "      <td>2671199</td>\n",
              "      <td>23160808</td>\n",
              "      <td>15398570</td>\n",
              "      <td>0</td>\n",
              "      <td>-1</td>\n",
              "      <td>-1</td>\n",
              "      <td>0</td>\n",
              "      <td>0</td>\n",
              "      <td>-1</td>\n",
              "      <td>-1</td>\n",
              "      <td>...</td>\n",
              "      <td>294889</td>\n",
              "      <td>30763035</td>\n",
              "      <td>28928366</td>\n",
              "      <td>26487682</td>\n",
              "      <td>29196072</td>\n",
              "      <td>32440044</td>\n",
              "      <td>28928366</td>\n",
              "      <td>27168706</td>\n",
              "      <td>29196072</td>\n",
              "      <td>21091111</td>\n",
              "    </tr>\n",
              "  </tbody>\n",
              "</table>\n",
              "<p>16468027 rows × 22 columns</p>\n",
              "</div>"
            ],
            "text/plain": [
              "          timestamp       uid  campaign  conversion  conversion_timestamp  \\\n",
              "0                 0  20073966  22589171           0                    -1   \n",
              "1                 2  24607497    884761           0                    -1   \n",
              "2                 2  28474333  18975823           0                    -1   \n",
              "3                 3   7306395  29427842           1               1449193   \n",
              "4                 3  25357769  13365547           0                    -1   \n",
              "...             ...       ...       ...         ...                   ...   \n",
              "16468022    2671199   5767906   4869923           0                    -1   \n",
              "16468023    2671199   6852682  10002432           0                    -1   \n",
              "16468024    2671199  16638720   7061828           0                    -1   \n",
              "16468025    2671199   3032300   5061834           0                    -1   \n",
              "16468026    2671199  23160808  15398570           0                    -1   \n",
              "\n",
              "          conversion_id  attribution  click  click_pos  click_nb  ...  \\\n",
              "0                    -1            0      0         -1        -1  ...   \n",
              "1                    -1            0      0         -1        -1  ...   \n",
              "2                    -1            0      0         -1        -1  ...   \n",
              "3               3063962            0      1          0         7  ...   \n",
              "4                    -1            0      0         -1        -1  ...   \n",
              "...                 ...          ...    ...        ...       ...  ...   \n",
              "16468022             -1            0      1         -1        -1  ...   \n",
              "16468023             -1            0      0         -1        -1  ...   \n",
              "16468024             -1            0      0         -1        -1  ...   \n",
              "16468025             -1            0      1         -1        -1  ...   \n",
              "16468026             -1            0      0         -1        -1  ...   \n",
              "\n",
              "          time_since_last_click      cat1      cat2      cat3      cat4  \\\n",
              "0                            -1   5824233   9312274   3490278  29196072   \n",
              "1                        423858  30763035   9312274  14584482  29196072   \n",
              "2                          8879    138937   9312274  10769841  29196072   \n",
              "3                            -1  28928366  26597095  12435261  23549932   \n",
              "4                            -1    138937  26597094  31616034  29196072   \n",
              "...                         ...       ...       ...       ...       ...   \n",
              "16468022                 482560  30763035  26597095  13113052  29196072   \n",
              "16468023                 971748  25259032   9312274  10979162  29196072   \n",
              "16468024                 268431  30763035   5824235  29542751  29196072   \n",
              "16468025                     -1   1973606  26597096  28944164  29196072   \n",
              "16468026                 294889  30763035  28928366  26487682  29196072   \n",
              "\n",
              "              cat5      cat6      cat7      cat8      cat9  \n",
              "0         11409686   1973606  25162884  29196072  29196072  \n",
              "1         11409686   1973606  22644417   9312274  21091111  \n",
              "2          5824237    138937   1795451  29196072  15351056  \n",
              "3          5824237   1973606   9180723  29841067  29196072  \n",
              "4         11409684  26597096   4480345  29196072  29196072  \n",
              "...            ...       ...       ...       ...       ...  \n",
              "16468022   5824236  30763035  18391143  29196072   8661623  \n",
              "16468023  32440044  29196072  27259439  29196072   8661620  \n",
              "16468024   5824237  29196072   3696777  29196072  21091111  \n",
              "16468025  26611392   1973606   5642940  14911188  29196072  \n",
              "16468026  32440044  28928366  27168706  29196072  21091111  \n",
              "\n",
              "[16468027 rows x 22 columns]"
            ]
          },
          "metadata": {
            "tags": []
          },
          "execution_count": 5
        }
      ]
    },
    {
      "cell_type": "code",
      "metadata": {
        "id": "EkNQWmTCWnhg"
      },
      "source": [
        "def get_conversion_in_time_window(df, time_window=60*60*24):\n",
        "    conversion_timestamps = df.groupby('uid').agg({'conversion_timestamp': lambda x: sorted(list(set(x)))})\n",
        "    conversion_timestamps.rename(columns={'conversion_timestamp': 'conversion_timestamps'}, inplace=True)\n",
        "\n",
        "    def get_next_conversion_timestamp(data):\n",
        "        next_conversion_index = np.searchsorted(data['conversion_timestamps'], data['timestamp'])\n",
        "        if next_conversion_index == len(data['conversion_timestamps']):\n",
        "            return -1\n",
        "        else:\n",
        "            return data['conversion_timestamps'][next_conversion_index]\n",
        "\n",
        "    df_with_ct = df.merge(conversion_timestamps, on='uid', how='outer', validate=\"many_to_one\")\n",
        "\n",
        "    matched_displays_mask = df_with_ct['conversion_timestamp'] > 0\n",
        "    df_with_ct['next_conversion_timestamp'] = np.where(\n",
        "        matched_displays_mask,\n",
        "        df_with_ct['conversion_timestamp'],\n",
        "        df_with_ct.apply(get_next_conversion_timestamp, axis=1)\n",
        "    )\n",
        "    \n",
        "    df_with_ct['conversion_in_time_window'] = np.where(\n",
        "        df_with_ct['next_conversion_timestamp'] != -1,\n",
        "        ((df_with_ct['next_conversion_timestamp'] - df_with_ct['timestamp']) <= time_window).astype(int),\n",
        "        0\n",
        "    )\n",
        "    \n",
        "    \n",
        "    original_column_order = list(df.columns) + ['conversion_in_time_window']\n",
        "    return df_with_ct[original_column_order]"
      ],
      "execution_count": null,
      "outputs": []
    },
    {
      "cell_type": "code",
      "metadata": {
        "id": "RCFp-bhtWnhg"
      },
      "source": [
        "debug = True\n",
        "if debug:\n",
        "    test_df = pd.DataFrame([\n",
        "        {'uid': 1, 'timestamp': 1, 'conversion_timestamp': -1},\n",
        "        {'uid': 1, 'timestamp': 2, 'conversion_timestamp': -1},\n",
        "        {'uid': 1, 'timestamp': 3, 'conversion_timestamp': 6},\n",
        "        {'uid': 1, 'timestamp': 4, 'conversion_timestamp': 6},\n",
        "        {'uid': 1, 'timestamp': 7, 'conversion_timestamp': -1},\n",
        "        {'uid': 1, 'timestamp': 8, 'conversion_timestamp': 10},\n",
        "        {'uid': 1, 'timestamp': 9, 'conversion_timestamp': 10},\n",
        "        {'uid': 1, 'timestamp': 11, 'conversion_timestamp': -1},\n",
        "        {'uid': 1, 'timestamp': 12, 'conversion_timestamp': -1},\n",
        "        {'uid': 2, 'timestamp': 1, 'conversion_timestamp': -1},\n",
        "        {'uid': 2, 'timestamp': 2, 'conversion_timestamp': -1},\n",
        "        # Edge case : sometimes (rarely, the conversion is not mapped to the next one)\n",
        "        {'uid': 3, 'timestamp': 1, 'conversion_timestamp': -1},\n",
        "        {'uid': 3, 'timestamp': 2, 'conversion_timestamp': 7},\n",
        "        {'uid': 3, 'timestamp': 3, 'conversion_timestamp': 4},\n",
        "        {'uid': 3, 'timestamp': 5, 'conversion_timestamp': 7},\n",
        "        {'uid': 3, 'timestamp': 6, 'conversion_timestamp': 7},\n",
        "    ])\n",
        "    split_test_df = pd.DataFrame([\n",
        "        {'uid': 1, 'timestamp': 1, 'conversion_timestamp': -1, 'conversion_in_time_window': 0},\n",
        "        {'uid': 1, 'timestamp': 2, 'conversion_timestamp': -1, 'conversion_in_time_window': 0},\n",
        "        {'uid': 1, 'timestamp': 3, 'conversion_timestamp': 6, 'conversion_in_time_window': 0},\n",
        "        {'uid': 1, 'timestamp': 4, 'conversion_timestamp': 6, 'conversion_in_time_window': 1},\n",
        "        {'uid': 1, 'timestamp': 7, 'conversion_timestamp': -1, 'conversion_in_time_window': 0},\n",
        "        {'uid': 1, 'timestamp': 8, 'conversion_timestamp': 10, 'conversion_in_time_window': 1},\n",
        "        {'uid': 1, 'timestamp': 9, 'conversion_timestamp': 10, 'conversion_in_time_window': 1},\n",
        "        {'uid': 1, 'timestamp': 11, 'conversion_timestamp': -1, 'conversion_in_time_window': 0},\n",
        "        {'uid': 1, 'timestamp': 12, 'conversion_timestamp': -1, 'conversion_in_time_window': 0},\n",
        "        {'uid': 2, 'timestamp': 1, 'conversion_timestamp': -1, 'conversion_in_time_window': 0},\n",
        "        {'uid': 2, 'timestamp': 2, 'conversion_timestamp': -1, 'conversion_in_time_window': 0},\n",
        "        # Edge case\n",
        "        {'uid': 3, 'timestamp': 1, 'conversion_timestamp': -1, 'conversion_in_time_window': 0},\n",
        "        {'uid': 3, 'timestamp': 2, 'conversion_timestamp': 7, 'conversion_in_time_window': 0},\n",
        "        {'uid': 3, 'timestamp': 3, 'conversion_timestamp': 4, 'conversion_in_time_window': 1},\n",
        "        {'uid': 3, 'timestamp': 5, 'conversion_timestamp': 7, 'conversion_in_time_window': 1},\n",
        "        {'uid': 3, 'timestamp': 6, 'conversion_timestamp': 7, 'conversion_in_time_window': 1},\n",
        "    ])\n",
        "\n",
        "    assert split_test_df.equals(get_conversion_in_time_window(test_df, time_window=2))"
      ],
      "execution_count": null,
      "outputs": []
    },
    {
      "cell_type": "code",
      "metadata": {
        "id": "3VBljWPSWnhh"
      },
      "source": [
        "def get_nb_clicks(df, time_window=60*60*24):\n",
        "    click_timestamps = df[df['click'] == 1].groupby('uid').agg({'timestamp': lambda x: sorted(list(set(x)))})\n",
        "    click_timestamps.rename(columns={'timestamp': 'click_timestamps'}, inplace=True)\n",
        "\n",
        "    def get_nb_clicks(data):\n",
        "        if isinstance(data['click_timestamps'], list) and len(data['click_timestamps']) > 0:\n",
        "            return np.searchsorted(data['click_timestamps'], data['timestamp'])\n",
        "        else:\n",
        "            return 0\n",
        "\n",
        "    df_with_ct = df.merge(click_timestamps, on='uid', how='outer', validate=\"many_to_one\")\n",
        "    df_with_ct['nb_clicks'] = df_with_ct.apply(get_nb_clicks, axis=1)\n",
        "    \n",
        "    original_column_order = list(df.columns) + ['nb_clicks']\n",
        "    return df_with_ct[original_column_order]"
      ],
      "execution_count": null,
      "outputs": []
    },
    {
      "cell_type": "code",
      "metadata": {
        "id": "zHerHJ1fWnhh"
      },
      "source": [
        "debug = True\n",
        "if debug:\n",
        "    test_df = pd.DataFrame([\n",
        "        {'uid': 1, 'timestamp': 1, 'click': 0},\n",
        "        {'uid': 1, 'timestamp': 2, 'click': 0},\n",
        "        {'uid': 1, 'timestamp': 3, 'click': 1},\n",
        "        {'uid': 1, 'timestamp': 4, 'click': 1},\n",
        "        {'uid': 1, 'timestamp': 7, 'click': 0},\n",
        "        {'uid': 1, 'timestamp': 8, 'click': 1},\n",
        "        {'uid': 1, 'timestamp': 9, 'click': 1},\n",
        "        {'uid': 1, 'timestamp': 11, 'click': 0},\n",
        "        {'uid': 1, 'timestamp': 12, 'click': 0},\n",
        "        {'uid': 2, 'timestamp': 1, 'click': 0},\n",
        "        {'uid': 2, 'timestamp': 2, 'click': 0},\n",
        "    ])\n",
        "    nb_clicks_test_df = pd.DataFrame([\n",
        "        {'uid': 1, 'timestamp': 1, 'click': 0, \"nb_clicks\": 0},\n",
        "        {'uid': 1, 'timestamp': 2, 'click': 0, \"nb_clicks\": 0},\n",
        "        {'uid': 1, 'timestamp': 3, 'click': 1, \"nb_clicks\": 0},\n",
        "        {'uid': 1, 'timestamp': 4, 'click': 1, \"nb_clicks\": 1},\n",
        "        {'uid': 1, 'timestamp': 7, 'click': 0, \"nb_clicks\": 2},\n",
        "        {'uid': 1, 'timestamp': 8, 'click': 1, \"nb_clicks\": 2},\n",
        "        {'uid': 1, 'timestamp': 9, 'click': 1, \"nb_clicks\": 3},\n",
        "        {'uid': 1, 'timestamp': 11, 'click': 0, \"nb_clicks\": 4},\n",
        "        {'uid': 1, 'timestamp': 12, 'click': 0, \"nb_clicks\": 4},\n",
        "        {'uid': 2, 'timestamp': 1, 'click': 0, \"nb_clicks\": 0},\n",
        "        {'uid': 2, 'timestamp': 2, 'click': 0, \"nb_clicks\": 0},\n",
        "    ])\n",
        "\n",
        "    assert nb_clicks_test_df.equals(get_nb_clicks(test_df))"
      ],
      "execution_count": null,
      "outputs": []
    },
    {
      "cell_type": "code",
      "metadata": {
        "id": "2JRVAkKQiB5J"
      },
      "source": [
        "def preprocess_dataframe(input_df, refresh=False):\n",
        "    df_identifier = '_'.join(map(str, input_df.shape))\n",
        "    cache_directory = 'cache_ifa_lr'\n",
        "    cache_path = os.path.join(cache_directory, df_identifier, 'preprocess.pkl')\n",
        "    if os.path.exists(cache_path) and not refresh:\n",
        "        print('Load from', cache_path)\n",
        "        df = pd.read_pickle(cache_path)\n",
        "\n",
        "    else:\n",
        "        df = input_df.copy()\n",
        "        df['uid'] = df['uid'].astype(str) + '_' + df['campaign'].astype(str)\n",
        "        \n",
        "        df['day'] = np.floor(df['timestamp'] / 86400.).astype(int)\n",
        "        \n",
        "        loground_bucketize = True\n",
        "        if loground_bucketize:\n",
        "            df['time_since_last_click_bucketized'] = np.where(\n",
        "                df['time_since_last_click'] > 0,\n",
        "                np.log(1 + df['time_since_last_click'] / 60).astype(int),\n",
        "                df['time_since_last_click'],\n",
        "            )\n",
        "        else:\n",
        "            packed_hours = 4\n",
        "            df['time_since_last_click_bucketized'] = (df['time_since_last_click'] / (packed_hours * 3600)).astype(int).values\n",
        "            df['time_since_last_click_bucketized'] *= packed_hours\n",
        "\n",
        "        df['gap_click_sale'] = -1\n",
        "        df.loc[df['conversion'] == 1, 'gap_click_sale'] = df['conversion_timestamp'] - df['timestamp']\n",
        "\n",
        "        df['last_click'] = df['attribution'] * (df['click_pos'] == df['click_nb'] - 1).astype(int)\n",
        "        df = get_conversion_in_time_window(df)\n",
        "        df = get_nb_clicks(df)\n",
        "        os.makedirs(os.path.dirname(cache_path), exist_ok=True)\n",
        "        df.to_pickle(cache_path)\n",
        "\n",
        "    return df"
      ],
      "execution_count": null,
      "outputs": []
    },
    {
      "cell_type": "code",
      "metadata": {
        "colab": {
          "base_uri": "https://localhost:8080/",
          "height": 119
        },
        "id": "M4dSQLac7VEb",
        "outputId": "57ab1e3b-ace0-46db-d37b-281049414150"
      },
      "source": [
        "%%time\n",
        "\n",
        "enriched_df = preprocess_dataframe(debug_df, refresh=False)\n",
        "with pd.option_context('display.max_columns', 1000):\n",
        "    display(enriched_df.head())"
      ],
      "execution_count": null,
      "outputs": [
        {
          "output_type": "stream",
          "text": [
            "Load from cache_ifa_lr/16468027_22/preprocess.pkl\n"
          ],
          "name": "stdout"
        },
        {
          "output_type": "display_data",
          "data": {
            "text/html": [
              "<div>\n",
              "<style scoped>\n",
              "    .dataframe tbody tr th:only-of-type {\n",
              "        vertical-align: middle;\n",
              "    }\n",
              "\n",
              "    .dataframe tbody tr th {\n",
              "        vertical-align: top;\n",
              "    }\n",
              "\n",
              "    .dataframe thead th {\n",
              "        text-align: right;\n",
              "    }\n",
              "</style>\n",
              "<table border=\"1\" class=\"dataframe\">\n",
              "  <thead>\n",
              "    <tr style=\"text-align: right;\">\n",
              "      <th></th>\n",
              "      <th>timestamp</th>\n",
              "      <th>uid</th>\n",
              "      <th>campaign</th>\n",
              "      <th>conversion</th>\n",
              "      <th>conversion_timestamp</th>\n",
              "      <th>conversion_id</th>\n",
              "      <th>attribution</th>\n",
              "      <th>click</th>\n",
              "      <th>click_pos</th>\n",
              "      <th>click_nb</th>\n",
              "      <th>cost</th>\n",
              "      <th>cpo</th>\n",
              "      <th>time_since_last_click</th>\n",
              "      <th>cat1</th>\n",
              "      <th>cat2</th>\n",
              "      <th>cat3</th>\n",
              "      <th>cat4</th>\n",
              "      <th>cat5</th>\n",
              "      <th>cat6</th>\n",
              "      <th>cat7</th>\n",
              "      <th>cat8</th>\n",
              "      <th>cat9</th>\n",
              "      <th>day</th>\n",
              "      <th>time_since_last_click_bucketized</th>\n",
              "      <th>gap_click_sale</th>\n",
              "      <th>last_click</th>\n",
              "      <th>conversion_in_time_window</th>\n",
              "      <th>nb_clicks</th>\n",
              "    </tr>\n",
              "  </thead>\n",
              "  <tbody>\n",
              "    <tr>\n",
              "      <th>0</th>\n",
              "      <td>0</td>\n",
              "      <td>20073966_22589171</td>\n",
              "      <td>22589171</td>\n",
              "      <td>0</td>\n",
              "      <td>-1</td>\n",
              "      <td>-1</td>\n",
              "      <td>0</td>\n",
              "      <td>0</td>\n",
              "      <td>-1</td>\n",
              "      <td>-1</td>\n",
              "      <td>0.000010</td>\n",
              "      <td>0.390794</td>\n",
              "      <td>-1</td>\n",
              "      <td>5824233</td>\n",
              "      <td>9312274</td>\n",
              "      <td>3490278</td>\n",
              "      <td>29196072</td>\n",
              "      <td>11409686</td>\n",
              "      <td>1973606</td>\n",
              "      <td>25162884</td>\n",
              "      <td>29196072</td>\n",
              "      <td>29196072</td>\n",
              "      <td>0</td>\n",
              "      <td>-1</td>\n",
              "      <td>-1</td>\n",
              "      <td>0</td>\n",
              "      <td>0</td>\n",
              "      <td>0</td>\n",
              "    </tr>\n",
              "    <tr>\n",
              "      <th>1</th>\n",
              "      <td>2</td>\n",
              "      <td>24607497_884761</td>\n",
              "      <td>884761</td>\n",
              "      <td>0</td>\n",
              "      <td>-1</td>\n",
              "      <td>-1</td>\n",
              "      <td>0</td>\n",
              "      <td>0</td>\n",
              "      <td>-1</td>\n",
              "      <td>-1</td>\n",
              "      <td>0.000010</td>\n",
              "      <td>0.059600</td>\n",
              "      <td>423858</td>\n",
              "      <td>30763035</td>\n",
              "      <td>9312274</td>\n",
              "      <td>14584482</td>\n",
              "      <td>29196072</td>\n",
              "      <td>11409686</td>\n",
              "      <td>1973606</td>\n",
              "      <td>22644417</td>\n",
              "      <td>9312274</td>\n",
              "      <td>21091111</td>\n",
              "      <td>0</td>\n",
              "      <td>8</td>\n",
              "      <td>-1</td>\n",
              "      <td>0</td>\n",
              "      <td>0</td>\n",
              "      <td>0</td>\n",
              "    </tr>\n",
              "    <tr>\n",
              "      <th>2</th>\n",
              "      <td>227</td>\n",
              "      <td>24607497_884761</td>\n",
              "      <td>884761</td>\n",
              "      <td>0</td>\n",
              "      <td>-1</td>\n",
              "      <td>-1</td>\n",
              "      <td>0</td>\n",
              "      <td>0</td>\n",
              "      <td>-1</td>\n",
              "      <td>-1</td>\n",
              "      <td>0.000010</td>\n",
              "      <td>0.059600</td>\n",
              "      <td>424083</td>\n",
              "      <td>30763035</td>\n",
              "      <td>9312274</td>\n",
              "      <td>14584482</td>\n",
              "      <td>29196072</td>\n",
              "      <td>11409686</td>\n",
              "      <td>1973606</td>\n",
              "      <td>22644417</td>\n",
              "      <td>9312274</td>\n",
              "      <td>21091111</td>\n",
              "      <td>0</td>\n",
              "      <td>8</td>\n",
              "      <td>-1</td>\n",
              "      <td>0</td>\n",
              "      <td>0</td>\n",
              "      <td>0</td>\n",
              "    </tr>\n",
              "    <tr>\n",
              "      <th>3</th>\n",
              "      <td>422169</td>\n",
              "      <td>24607497_884761</td>\n",
              "      <td>884761</td>\n",
              "      <td>0</td>\n",
              "      <td>-1</td>\n",
              "      <td>-1</td>\n",
              "      <td>0</td>\n",
              "      <td>1</td>\n",
              "      <td>-1</td>\n",
              "      <td>-1</td>\n",
              "      <td>0.000049</td>\n",
              "      <td>0.061053</td>\n",
              "      <td>846025</td>\n",
              "      <td>30763035</td>\n",
              "      <td>9312274</td>\n",
              "      <td>14584482</td>\n",
              "      <td>29196072</td>\n",
              "      <td>11409686</td>\n",
              "      <td>1973606</td>\n",
              "      <td>27926977</td>\n",
              "      <td>26597096</td>\n",
              "      <td>8661620</td>\n",
              "      <td>4</td>\n",
              "      <td>9</td>\n",
              "      <td>-1</td>\n",
              "      <td>0</td>\n",
              "      <td>0</td>\n",
              "      <td>0</td>\n",
              "    </tr>\n",
              "    <tr>\n",
              "      <th>4</th>\n",
              "      <td>590673</td>\n",
              "      <td>24607497_884761</td>\n",
              "      <td>884761</td>\n",
              "      <td>0</td>\n",
              "      <td>-1</td>\n",
              "      <td>-1</td>\n",
              "      <td>0</td>\n",
              "      <td>0</td>\n",
              "      <td>-1</td>\n",
              "      <td>-1</td>\n",
              "      <td>0.000010</td>\n",
              "      <td>0.060939</td>\n",
              "      <td>168504</td>\n",
              "      <td>30763035</td>\n",
              "      <td>9312274</td>\n",
              "      <td>14584482</td>\n",
              "      <td>29196072</td>\n",
              "      <td>11409686</td>\n",
              "      <td>1973606</td>\n",
              "      <td>27926977</td>\n",
              "      <td>9312274</td>\n",
              "      <td>21091108</td>\n",
              "      <td>6</td>\n",
              "      <td>7</td>\n",
              "      <td>-1</td>\n",
              "      <td>0</td>\n",
              "      <td>0</td>\n",
              "      <td>1</td>\n",
              "    </tr>\n",
              "  </tbody>\n",
              "</table>\n",
              "</div>"
            ],
            "text/plain": [
              "   timestamp                uid  campaign  conversion  conversion_timestamp  \\\n",
              "0          0  20073966_22589171  22589171           0                    -1   \n",
              "1          2    24607497_884761    884761           0                    -1   \n",
              "2        227    24607497_884761    884761           0                    -1   \n",
              "3     422169    24607497_884761    884761           0                    -1   \n",
              "4     590673    24607497_884761    884761           0                    -1   \n",
              "\n",
              "   conversion_id  attribution  click  click_pos  click_nb      cost       cpo  \\\n",
              "0             -1            0      0         -1        -1  0.000010  0.390794   \n",
              "1             -1            0      0         -1        -1  0.000010  0.059600   \n",
              "2             -1            0      0         -1        -1  0.000010  0.059600   \n",
              "3             -1            0      1         -1        -1  0.000049  0.061053   \n",
              "4             -1            0      0         -1        -1  0.000010  0.060939   \n",
              "\n",
              "   time_since_last_click      cat1     cat2      cat3      cat4      cat5  \\\n",
              "0                     -1   5824233  9312274   3490278  29196072  11409686   \n",
              "1                 423858  30763035  9312274  14584482  29196072  11409686   \n",
              "2                 424083  30763035  9312274  14584482  29196072  11409686   \n",
              "3                 846025  30763035  9312274  14584482  29196072  11409686   \n",
              "4                 168504  30763035  9312274  14584482  29196072  11409686   \n",
              "\n",
              "      cat6      cat7      cat8      cat9  day  \\\n",
              "0  1973606  25162884  29196072  29196072    0   \n",
              "1  1973606  22644417   9312274  21091111    0   \n",
              "2  1973606  22644417   9312274  21091111    0   \n",
              "3  1973606  27926977  26597096   8661620    4   \n",
              "4  1973606  27926977   9312274  21091108    6   \n",
              "\n",
              "   time_since_last_click_bucketized  gap_click_sale  last_click  \\\n",
              "0                                -1              -1           0   \n",
              "1                                 8              -1           0   \n",
              "2                                 8              -1           0   \n",
              "3                                 9              -1           0   \n",
              "4                                 7              -1           0   \n",
              "\n",
              "   conversion_in_time_window  nb_clicks  \n",
              "0                          0          0  \n",
              "1                          0          0  \n",
              "2                          0          0  \n",
              "3                          0          0  \n",
              "4                          0          1  "
            ]
          },
          "metadata": {
            "tags": []
          }
        },
        {
          "output_type": "stream",
          "text": [
            "CPU times: user 2.23 s, sys: 3.14 s, total: 5.36 s\n",
            "Wall time: 7.04 s\n"
          ],
          "name": "stdout"
        }
      ]
    },
    {
      "cell_type": "code",
      "metadata": {
        "id": "dhixWvRI0Skg"
      },
      "source": [
        "FEATURES = ['campaign', 'cat1', 'cat2', 'cat3', 'cat4', 'cat5', 'cat6', 'cat7', 'cat8', 'cat9', 'time_since_last_click_bucketized', 'nb_clicks']\n",
        "INFOS = ['cost', 'cpo', 'time_since_last_click']\n",
        "INFOS += ['last_click', 'first_click', 'uniform']"
      ],
      "execution_count": null,
      "outputs": []
    },
    {
      "cell_type": "markdown",
      "metadata": {
        "id": "7dZmKPdS7tQw"
      },
      "source": [
        "## Learning"
      ]
    },
    {
      "cell_type": "markdown",
      "metadata": {
        "id": "zNKnb_HBi-Kd"
      },
      "source": [
        "### Last click model"
      ]
    },
    {
      "cell_type": "code",
      "metadata": {
        "id": "OQa6DDBFKni1"
      },
      "source": [
        "class SplitBy(Enum):\n",
        "    UID = 1\n",
        "    DATE = 2\n",
        "\n",
        "def split_train_test_mask(split_by, df, ratio):\n",
        "    \"\"\"We split the dataset into train and test parts. \n",
        "    We can either split it by day (learn on the past to predict the future)\n",
        "    or by uid (learn on a part of the population and test on the other part)\n",
        "    \"\"\"\n",
        "    if split_by == SplitBy.UID:\n",
        "        uid_and_salt = df['uid'].astype(str) + 'hash_salt_for_train_test_split'\n",
        "        hashed_uid_and_salt = pd.util.hash_pandas_object(uid_and_salt, index=False)\n",
        "        random_column_based_on_uid = hashed_uid_and_salt / np.iinfo(np.uint64).max\n",
        "\n",
        "        is_training = random_column_based_on_uid < ratio\n",
        "\n",
        "    if split_by == SplitBy.DATE:\n",
        "        split_day = max(1, ratio * df['day'].max())\n",
        "        is_training = df['day'] < split_day\n",
        "\n",
        "    return is_training"
      ],
      "execution_count": null,
      "outputs": []
    },
    {
      "cell_type": "code",
      "metadata": {
        "id": "YojriMQ77rud",
        "outputId": "94a7e745-2cbc-4b3c-f001-b99078bfce30"
      },
      "source": [
        "%%time\n",
        "\n",
        "cache_directory = 'cache_ifa_lr'\n",
        "features_file = 'features.npz'\n",
        "\n",
        "def features_to_list_of_strings(row):\n",
        "    return [f'{feature}_{row[feature]}' for feature in row.index]\n",
        "\n",
        "def get_features(df, features_columns, hash_space=2**13):\n",
        "    df_identifier = '_'.join(map(str, enriched_df.shape))\n",
        "    label_features_identifier = f'{\"_\".join(features_columns)}'\n",
        "    cache_path = os.path.join(cache_directory, df_identifier, label_features_identifier, str(hash_space))\n",
        "\n",
        "    features_cache_path = os.path.join(cache_path, features_file)\n",
        "    print('features_cache_path',features_cache_path)\n",
        "\n",
        "    if os.path.exists(features_cache_path):\n",
        "        features = scipy.sparse.load_npz(features_cache_path)\n",
        "\n",
        "    else:\n",
        "        raw_features = df[features_columns]\n",
        "\n",
        "        features_as_list_of_strings = raw_features.apply(features_to_list_of_strings, axis=1)\n",
        "        hasher = FeatureHasher(n_features=hash_space, input_type='string', alternate_sign=False)\n",
        "        features = hasher.fit_transform(features_as_list_of_strings)\n",
        "        os.makedirs(cache_path)\n",
        "        scipy.sparse.save_npz(features_cache_path, features)\n",
        "\n",
        "    return features\n",
        "\n",
        "features = get_features(enriched_df, FEATURES, hash_space=2**16)\n",
        "is_training = split_train_test_mask(SplitBy.UID, enriched_df, 0.8)"
      ],
      "execution_count": null,
      "outputs": [
        {
          "output_type": "stream",
          "text": [
            "features_cache_path cache_ifa_lr/16468027_28/campaign_cat1_cat2_cat3_cat4_cat5_cat6_cat7_cat8_cat9_time_since_last_click_bucketized_nb_clicks/65536/features.npz\n",
            "CPU times: user 18.3 s, sys: 1.77 s, total: 20 s\n",
            "Wall time: 20.2 s\n"
          ],
          "name": "stdout"
        }
      ]
    },
    {
      "cell_type": "code",
      "metadata": {
        "id": "pgifAQ47Wnhk"
      },
      "source": [
        "class LastClickModel():\n",
        "    def __init__(self):\n",
        "        self.last_click_model = LogisticRegression(max_iter=1000)\n",
        "    \n",
        "    def fit(self, enriched_df, features):\n",
        "        is_clicked = enriched_df['click'] == 1\n",
        "        last_click_labels = enriched_df['last_click']\n",
        "        last_click_given_click_labels = last_click_labels[is_clicked]\n",
        "        features_given_click = features[is_clicked]\n",
        "\n",
        "        self.last_click_model = LogisticRegression(max_iter=1000)\n",
        "        self.last_click_model.fit(features_given_click, last_click_given_click_labels)\n",
        "        \n",
        "    def predict_proba(self, features):\n",
        "        return self.last_click_model.predict_proba(features)[:, 1]"
      ],
      "execution_count": null,
      "outputs": []
    },
    {
      "cell_type": "code",
      "metadata": {
        "id": "nuscPWbAWnhk",
        "outputId": "46cbc6da-c9ca-454f-f96f-6a08890fa833"
      },
      "source": [
        "%%time \n",
        "\n",
        "last_click_model = LastClickModel()\n",
        "last_click_model.fit(enriched_df[is_training], features[is_training])"
      ],
      "execution_count": null,
      "outputs": [
        {
          "output_type": "stream",
          "text": [
            "ConvergenceWarning: lbfgs failed to converge (status=1):\n",
            "STOP: TOTAL NO. of ITERATIONS REACHED LIMIT.\n",
            "\n",
            "Increase the number of iterations (max_iter) or scale the data as shown in:\n",
            "    https://scikit-learn.org/stable/modules/preprocessing.html\n",
            "Please also refer to the documentation for alternative solver options:\n",
            "    https://scikit-learn.org/stable/modules/linear_model.html#logistic-regression\n",
            "  extra_warning_msg=_LOGISTIC_SOLVER_CONVERGENCE_MSG)\n"
          ],
          "name": "stderr"
        },
        {
          "output_type": "stream",
          "text": [
            "CPU times: user 43min 36s, sys: 56min 37s, total: 1h 40min 14s\n",
            "Wall time: 10min 23s\n"
          ],
          "name": "stdout"
        }
      ]
    },
    {
      "cell_type": "markdown",
      "metadata": {
        "id": "2khKr6RnXq5E"
      },
      "source": [
        "### Incrementality factor model"
      ]
    },
    {
      "cell_type": "code",
      "metadata": {
        "id": "wjf3b0Hg-K38"
      },
      "source": [
        "class IFAModel():\n",
        "    def __init__(self):\n",
        "        self.sales_given_click_model = LogisticRegression(max_iter=1000)\n",
        "        self.sales_given_no_click_model = LogisticRegression(max_iter=1000)\n",
        "    \n",
        "    def fit(self, enriched_df, features):\n",
        "        is_clicked = enriched_df['click'] == 1\n",
        "        sales_labels = enriched_df['conversion_in_time_window']\n",
        "        labels_given_click, features_given_click = sales_labels[is_clicked], features[is_clicked]\n",
        "        labels_given_no_click, features_given_no_click = sales_labels[~is_clicked], features[~is_clicked]\n",
        "        \n",
        "        self.sales_given_click_model.fit(features_given_click, labels_given_click)\n",
        "        self.sales_given_no_click_model.fit(features_given_no_click, labels_given_no_click)\n",
        "        \n",
        "    def predict_ifa(self, features, epsilon=1e-2):\n",
        "        p_sales_given_click = self.sales_given_click_model.predict_proba(features)[:, 1]\n",
        "        p_sales_given_no_click = self.sales_given_no_click_model.predict_proba(features)[:, 1]\n",
        "        ifa = 1 - p_sales_given_no_click / p_sales_given_click    \n",
        "        return np.maximum(np.minimum(ifa, 1 - epsilon), epsilon)\n",
        "        \n",
        "    def predict_proba(self, features, epsilon=1e-2):\n",
        "        p_sales_given_click = self.sales_given_click_model.predict_proba(features)[:, 1]\n",
        "        return self.predict_ifa(features, epsilon=epsilon) * p_sales_given_click"
      ],
      "execution_count": null,
      "outputs": []
    },
    {
      "cell_type": "code",
      "metadata": {
        "id": "MztyIOcgWnhl",
        "outputId": "b05d854a-a3a9-4776-d01c-a84063b0e7aa"
      },
      "source": [
        "%%time \n",
        "\n",
        "ifa_model = IFAModel()\n",
        "ifa_model.fit(enriched_df[is_training], features[is_training])"
      ],
      "execution_count": null,
      "outputs": [
        {
          "output_type": "stream",
          "text": [
            "ConvergenceWarning: lbfgs failed to converge (status=1):\n",
            "STOP: TOTAL NO. of ITERATIONS REACHED LIMIT.\n",
            "\n",
            "Increase the number of iterations (max_iter) or scale the data as shown in:\n",
            "    https://scikit-learn.org/stable/modules/preprocessing.html\n",
            "Please also refer to the documentation for alternative solver options:\n",
            "    https://scikit-learn.org/stable/modules/linear_model.html#logistic-regression\n",
            "  extra_warning_msg=_LOGISTIC_SOLVER_CONVERGENCE_MSG)\n"
          ],
          "name": "stderr"
        },
        {
          "output_type": "stream",
          "text": [
            "CPU times: user 1h 11min 18s, sys: 1h 27min 51s, total: 2h 39min 9s\n",
            "Wall time: 20min 26s\n"
          ],
          "name": "stdout"
        }
      ]
    },
    {
      "cell_type": "code",
      "metadata": {
        "id": "lb_3saWDWnhl"
      },
      "source": [
        "packed_hours = 6\n",
        "hour_since_last_click = (enriched_df['time_since_last_click'][is_training] / (packed_hours * 3600)).astype(int).values\n",
        "hour_since_last_click *= packed_hours\n",
        "\n",
        "temp_df = pd.DataFrame()\n",
        "temp_df['ifa'] = ifa_model.predict_ifa(features[is_training])\n",
        "temp_df['hour_since_last_click'] = hour_since_last_click\n",
        "temp_df = temp_df[temp_df['hour_since_last_click'] > 0]\n",
        "\n",
        "tslc_mean_scores_df = temp_df.groupby('hour_since_last_click').mean()"
      ],
      "execution_count": null,
      "outputs": []
    },
    {
      "cell_type": "code",
      "metadata": {
        "id": "KDINnuLCWnhl"
      },
      "source": [
        "temp_df = pd.DataFrame()\n",
        "temp_df['ifa'] = ifa_model.predict_ifa(features[is_training])\n",
        "temp_df['nb_clicks'] = enriched_df['nb_clicks']\n",
        "\n",
        "nb_clicks_mean_scores_df = temp_df.groupby('nb_clicks').mean()"
      ],
      "execution_count": null,
      "outputs": []
    },
    {
      "cell_type": "code",
      "metadata": {
        "id": "HSbTINHqWnhm"
      },
      "source": [
        "cache_ifa_results_dir = 'cache_ifa_results_dir'\n",
        "os.makedirs(cache_ifa_results_dir, exist_ok=True)\n",
        "\n",
        "tslc_mean_scores_file_path = os.path.join(cache_ifa_results_dir, f\"tslc_mean_scores_file_{debug_sample}.csv\")\n",
        "nb_clicks_mean_scores_file_path = os.path.join(cache_ifa_results_dir, f\"nb_clicks_mean_scores_file_{debug_sample}.csv\")\n"
      ],
      "execution_count": null,
      "outputs": []
    },
    {
      "cell_type": "code",
      "metadata": {
        "id": "fsgmTl8mWnhm"
      },
      "source": [
        "tslc_mean_scores_df.to_csv(tslc_mean_scores_file_path)\n",
        "nb_clicks_test_df.to_csv(nb_clicks_mean_scores_file_path)"
      ],
      "execution_count": null,
      "outputs": []
    },
    {
      "cell_type": "code",
      "metadata": {
        "id": "nA7aNP1WWnhm",
        "outputId": "b97b06f1-c6dd-417a-8ce9-11a6f2358fdc"
      },
      "source": [
        "tslc_mean_scores_df = pd.read_csv(tslc_mean_scores_file_path)\n",
        "nb_clicks_test_df = pd.read_csv(nb_clicks_mean_scores_file_path)\n",
        "\n",
        "fig, axes = plt.subplots(1, 2, figsize=(8, 3))\n",
        "\n",
        "ifa_label = r'$1 - \\frac{\\mathbb{P}(S|\\bar{C})}{\\mathbb{P}(S|C)}$'\n",
        "\n",
        "ax_tslc = axes[0]\n",
        "n_hours = 24000\n",
        "keep_x_tslc = int(n_hours / packed_hours)\n",
        "ax_tslc.plot(tslc_mean_scores_df.index[:keep_x_tslc], tslc_mean_scores_df['ifa'][:keep_x_tslc], label=ifa_label)\n",
        "ax_tslc.set_xlabel('Hours since last click')\n",
        "ax_tslc.legend(fontsize=14)\n",
        "\n",
        "lbda_pcb = 6.25e-6\n",
        "x_in_seconds = tslc_mean_scores_df.index[:keep_x_tslc].values * 3600\n",
        "pcb_factor = 1 - np.exp(- lbda_pcb * x_in_seconds)\n",
        "#ax_tslc.plot(tslc_mean_scores_df.index[:keep_x_tslc],pcb_factor)\n",
        "\n",
        "ax_nclicks = axes[1]\n",
        "keep_x_nclicks = 21\n",
        "ax_nclicks.plot(nb_clicks_mean_scores_df.index[:keep_x_nclicks], nb_clicks_mean_scores_df['ifa'][:keep_x_nclicks], label=ifa_label)\n",
        "ax_nclicks.set_xlabel('Number of clicks before display')\n",
        "\n",
        "ax_nclicks.legend(fontsize=14)\n",
        "plt.savefig('ifa_value_sanity_checks.pdf', bbox_inches='tight')"
      ],
      "execution_count": null,
      "outputs": [
        {
          "output_type": "display_data",
          "data": {
            "image/png": "[encoded data removed]",
            "text/plain": [
              "<Figure size 576x216 with 2 Axes>"
            ]
          },
          "metadata": {
            "tags": []
          }
        }
      ]
    },
    {
      "cell_type": "code",
      "metadata": {
        "id": "Gvc1yzeWWnhm",
        "outputId": "7785048a-bac3-47b4-c489-f70ab8f24305"
      },
      "source": [
        "%%time\n",
        "\n",
        "click_model = LogisticRegression(max_iter=1000)\n",
        "click_model.fit(features[is_training], enriched_df['click'][is_training])"
      ],
      "execution_count": null,
      "outputs": [
        {
          "output_type": "stream",
          "text": [
            "CPU times: user 53min 13s, sys: 49min 42s, total: 1h 42min 56s\n",
            "Wall time: 27min 43s\n"
          ],
          "name": "stdout"
        },
        {
          "output_type": "stream",
          "text": [
            "ConvergenceWarning: lbfgs failed to converge (status=1):\n",
            "STOP: TOTAL NO. of ITERATIONS REACHED LIMIT.\n",
            "\n",
            "Increase the number of iterations (max_iter) or scale the data as shown in:\n",
            "    https://scikit-learn.org/stable/modules/preprocessing.html\n",
            "Please also refer to the documentation for alternative solver options:\n",
            "    https://scikit-learn.org/stable/modules/linear_model.html#logistic-regression\n",
            "  extra_warning_msg=_LOGISTIC_SOLVER_CONVERGENCE_MSG)\n"
          ],
          "name": "stderr"
        },
        {
          "output_type": "execute_result",
          "data": {
            "text/plain": [
              "LogisticRegression(max_iter=1000)"
            ]
          },
          "metadata": {
            "tags": []
          },
          "execution_count": 26
        }
      ]
    },
    {
      "cell_type": "code",
      "metadata": {
        "id": "XGkl_Q2MWnhm"
      },
      "source": [
        "def log_likelihood(label, predictor):\n",
        "    return label * np.log(predictor) + (1 - label) * np.log(1 - predictor)\n",
        "\n",
        "def revert_the_label_likelihood(click_model_or_p_click, enriched_df, features, evaluated_model):\n",
        "    click_labels = enriched_df['click']\n",
        "    sales_labels = enriched_df['conversion_in_time_window']\n",
        "    \n",
        "    if hasattr(click_model_or_p_click, 'predict_proba'):\n",
        "        p_C = click_model_or_p_click.predict_proba(features)[:, 1]\n",
        "    else:\n",
        "        p_C = click_model_or_p_click\n",
        "    \n",
        "    y_predictor = evaluated_model.predict_proba(features)\n",
        "     \n",
        "    weighted_llh_c_sales = click_labels / p_C * (log_likelihood(sales_labels, y_predictor))\n",
        "    penalized_unclicked_sales = (1 - click_labels) * sales_labels / (1 - p_C) * (np.log((1 - y_predictor) / y_predictor))\n",
        "     \n",
        "    return np.mean(weighted_llh_c_sales + penalized_unclicked_sales)"
      ],
      "execution_count": null,
      "outputs": []
    },
    {
      "cell_type": "code",
      "metadata": {
        "id": "9yx2axWpWnhn"
      },
      "source": [
        "cache_ifa_results_dir = 'cache_ifa_results_dir'\n",
        "os.makedirs(cache_ifa_results_dir, exist_ok=True)\n",
        "\n",
        "llh_results_file_path = os.path.join(cache_ifa_results_dir, f\"llh_results_file_{debug_sample}.csv\")"
      ],
      "execution_count": null,
      "outputs": []
    },
    {
      "cell_type": "code",
      "metadata": {
        "id": "AA9zo8tCWnhn",
        "outputId": "4f58b30b-a9b0-4604-fa55-6148fa7343cc"
      },
      "source": [
        "%%time\n",
        "\n",
        "def compute_likelihoods(train_pclick, test_pclick, hash_space):\n",
        "    features = get_features(enriched_df, FEATURES, hash_space=hash_space)\n",
        "    is_training = split_train_test_mask(SplitBy.UID, enriched_df, 0.8)\n",
        "    \n",
        "    train_features, train_enriched_df = features[is_training], enriched_df[is_training]\n",
        "    test_features, test_enriched_df = features[~is_training], enriched_df[~is_training]\n",
        "    \n",
        "    last_click_model = LastClickModel()\n",
        "    last_click_model.fit(train_enriched_df, train_features)\n",
        "    \n",
        "    ifa_model = IFAModel()\n",
        "    ifa_model.fit(train_enriched_df, train_features)\n",
        "    \n",
        "    return (\n",
        "        revert_the_label_likelihood(train_pclick, train_enriched_df, train_features, ifa_model),\n",
        "        revert_the_label_likelihood(test_pclick, test_enriched_df, test_features, ifa_model),\n",
        "        revert_the_label_likelihood(train_pclick, train_enriched_df, train_features, last_click_model),\n",
        "        revert_the_label_likelihood(test_pclick, test_enriched_df, test_features, last_click_model),\n",
        "    )\n",
        "\n",
        "hash_spaces = [2**space for space in range(10, 17)] #10\n",
        "n_jobs = min(10, len(hash_spaces))\n",
        "\n",
        "train_pclick = click_model.predict_proba(features[is_training])[:, 1]\n",
        "test_pclick = click_model.predict_proba(features[~is_training])[:, 1]\n",
        "\n",
        "#parallel_result = []\n",
        "#for hash_space in hash_spaces:\n",
        "#    parallel_result += [compute_likelihoods(train_pclick, test_pclick, hash_space)]\n",
        "\n",
        "parallel_result = Parallel(n_jobs=n_jobs)(\n",
        "    delayed(compute_likelihoods)(train_pclick, test_pclick, hash_space) for hash_space in hash_spaces)\n",
        "\n",
        "ifa_train_llh, ifa_test_llh, lc_train_llh, lc_test_llh = zip(*parallel_result)\n",
        "\n",
        "llh_df = pd.DataFrame({'hash_spaces': hash_spaces, 'ifa_train_llh': ifa_train_llh, 'ifa_test_llh': ifa_test_llh, 'lc_train_llh': lc_train_llh, 'lc_test_llh': lc_test_llh})\n",
        "llh_df.to_csv(llh_results_file_path)"
      ],
      "execution_count": null,
      "outputs": [
        {
          "output_type": "stream",
          "text": [
            "CPU times: user 46.1 s, sys: 12.3 s, total: 58.4 s\n",
            "Wall time: 35min 50s\n"
          ],
          "name": "stdout"
        }
      ]
    },
    {
      "cell_type": "code",
      "metadata": {
        "id": "hlFzK67hWnhn",
        "outputId": "f62d434b-3bfb-4bae-b485-c4c4db94505f"
      },
      "source": [
        "llh_df = pd.read_csv(llh_results_file_path)\n",
        "\n",
        "fig, axes = plt.subplots(1, 2, figsize=(8, 4), sharey=False)\n",
        "\n",
        "axes[0].plot(llh_df['hash_spaces'], llh_df['ifa_train_llh'], label='incremental bidder', marker='o')\n",
        "axes[0].plot(llh_df['hash_spaces'], llh_df['lc_train_llh'], label='greedy bidder', marker='x')\n",
        "\n",
        "axes[0].set_title('Incremental likelihood on train set\\n', fontsize=13)\n",
        "axes[0].set_xlabel('size of features space')\n",
        "axes[0].set_ylim([None, axes[0].get_ylim()[1] + (axes[0].get_ylim()[1] - axes[0].get_ylim()[0]) * 0.3])\n",
        "axes[0].legend()\n",
        "\n",
        "axes[1].plot(llh_df['hash_spaces'], llh_df['ifa_test_llh'], label='incremental bidder', marker='o')\n",
        "axes[1].plot(llh_df['hash_spaces'], llh_df['lc_test_llh'], label='greedy bidder', marker='x')\n",
        "\n",
        "axes[1].set_title('Incremental likelihood on test set\\n', fontsize=13)\n",
        "axes[1].set_xlabel('size of features space')\n",
        "axes[1].legend()\n",
        "axes[1].set_ylim([None, axes[1].get_ylim()[1] + (axes[1].get_ylim()[1] - axes[1].get_ylim()[0]) * 0.3])\n",
        "\n",
        "fig.tight_layout()\n",
        "plt.savefig('incremental_metrics.pdf')"
      ],
      "execution_count": null,
      "outputs": [
        {
          "output_type": "display_data",
          "data": {
            "image/png": "[encoded data removed]",
            "text/plain": [
              "<Figure size 576x288 with 2 Axes>"
            ]
          },
          "metadata": {
            "tags": []
          }
        }
      ]
    }
  ]
}